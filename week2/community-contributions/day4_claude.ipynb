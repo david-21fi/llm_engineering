{
 "cells": [
  {
   "cell_type": "markdown",
   "id": "ddfa9ae6-69fe-444a-b994-8c4c5970a7ec",
   "metadata": {},
   "source": [
    "# Proyecto - Asistente de IA para aerolíneas\n",
    "\n",
    "Ahora, reuniremos lo que hemos aprendido para crear un asistente de IA para atención al cliente para una aerolínea."
   ]
  },
  {
   "cell_type": "code",
   "execution_count": null,
   "id": "8b50bbe2-c0b1-49c3-9a5c-1ba7efa2bcb4",
   "metadata": {},
   "outputs": [],
   "source": [
    "# imports\n",
    "\n",
    "import os\n",
    "import json\n",
    "from dotenv import load_dotenv\n",
    "from anthropic import Anthropic\n",
    "import gradio as gr\n",
    "import pandas as pd\n",
    "import uuid  ## para identificador único\n",
    "from datetime import date # para formato fecha"
   ]
  },
  {
   "cell_type": "code",
   "execution_count": null,
   "id": "747e8786-9da8-4342-b6c9-f5f69c2e22ae",
   "metadata": {},
   "outputs": [],
   "source": [
    "# Inicialización\n",
    "\n",
    "load_dotenv()\n",
    "\n",
    "anthropic_api_key = os.getenv('ANTHROPIC_API_KEY')\n",
    "if anthropic_api_key:\n",
    "    print(f\"Anthropic API Key exists and begins {anthropic_api_key[:8]}\")\n",
    "else:\n",
    "    print(\"Anthropic API Key Sin Configurar\")\n",
    "    \n",
    "MODEL = \"claude-3-5-sonnet-20241022\"\n",
    "claude = Anthropic(api_key=anthropic_api_key)"
   ]
  },
  {
   "cell_type": "code",
   "execution_count": null,
   "id": "0a521d84-d07c-49ab-a0df-d6451499ed97",
   "metadata": {},
   "outputs": [],
   "source": [
    "system_message = \"Eres un asistente útil para una aerolínea llamada FlightAI. \"\n",
    "system_message += \"Da respuestas breves y corteses, de no más de una oración. \"\n",
    "system_message += \"Se siempre preciso. Si no sabes la respuesta, dilo.\""
   ]
  },
  {
   "cell_type": "code",
   "execution_count": null,
   "id": "61a2a15d-b559-4844-b377-6bd5cb4949f6",
   "metadata": {},
   "outputs": [],
   "source": [
    "# Esta función parece bastante más simple que la de mi video, porque estamos aprovechando las últimas actualizaciones de Gradio.\n",
    "\n",
    "def chat(message, history):\n",
    "    messages = [{\"role\": \"user\" if i % 2 ==0 else 'assistant', \"content\": msg['content']} for i, msg in enumerate(history)]\n",
    "    print(history)\n",
    "    messages.append({\"role\": \"user\", \"content\": message})\n",
    "    response = claude.messages.create(model=MODEL,\n",
    "                                      system=system_message, \n",
    "                                      messages=messages,\n",
    "                                      max_tokens=500,\n",
    "                                      temperature=0.5,\n",
    "                                      )\n",
    "    return response.content[0].text\n",
    "\n",
    "gr.ChatInterface(fn=chat, type=\"messages\").launch()"
   ]
  },
  {
   "cell_type": "markdown",
   "id": "36bedabf-a0a7-4985-ad8e-07ed6a55a3a4",
   "metadata": {},
   "source": [
    "## Herramientas\n",
    "\n",
    "Las herramientas son una característica increíblemente poderosa que ofrecen los LLM de vanguardia.\n",
    "\n",
    "Con las herramientas, puedes escribir una función y hacer que el LLM llame a esa función como parte de su respuesta.\n",
    "\n",
    "Suena casi espeluznante... ¿le estamos dando el poder de ejecutar código en nuestra máquina?\n",
    "\n",
    "Bueno, más o menos."
   ]
  },
  {
   "cell_type": "code",
   "execution_count": null,
   "id": "992f894e",
   "metadata": {},
   "outputs": [],
   "source": [
    "data = {\n",
    "    'Nombre': ['Juan Pérez', 'María López', 'Pedro Gómez', 'Ana Martínez'],\n",
    "    'Apellido': ['Pérez', 'López', 'Gómez', 'Martínez'],\n",
    "    'Destino': ['Cancún', 'Nueva York', 'París', 'Tokio'],\n",
    "    'Fecha_Ida': ['2024-12-25', '2025-02-14', '2024-09-01', '2025-05-15'],\n",
    "    'Fecha_Vuelta': ['2025-01-05', '2025-02-22', '2024-09-10', '2025-05-25'],\n",
    "    'Número_Pasajeros': [2, 1, 3, 4],\n",
    "    'Clase': ['Turista', 'Business', 'Primera', 'Turista'],\n",
    "    'Precio_Total': [1000, 2500, 3000, 1500],\n",
    "    'id': [uuid.uuid4() for _ in range(4)]\n",
    "}\n",
    "data = pd.DataFrame(data)"
   ]
  },
  {
   "cell_type": "code",
   "execution_count": null,
   "id": "c7c5d72f",
   "metadata": {},
   "outputs": [],
   "source": [
    "data.head()"
   ]
  },
  {
   "cell_type": "code",
   "execution_count": null,
   "id": "0696acb1-0b05-4dc2-80d5-771be04f1fb2",
   "metadata": {},
   "outputs": [],
   "source": [
    "# Vamos a hacer una función útil\n",
    "\n",
    "ticket_prices = {\"londres\": \"799€\", \"paris\": \"899€\", \"tokyo\": \"1400€\", \"berlin\": \"499€\"}\n",
    "\n",
    "def get_ticket_price(destination_city):\n",
    "    print(f\"Se solicitó la herramienta get_ticket_price para {destination_city}\")\n",
    "    city = destination_city.lower()\n",
    "    return ticket_prices.get(city, \"Unknown\")"
   ]
  },
  {
   "cell_type": "code",
   "execution_count": null,
   "id": "48199bc9",
   "metadata": {},
   "outputs": [],
   "source": [
    "def reserva(nombre, apellido, destino, fecha_ida, fecha_vuelta, numero_pasajeros, clase, precio_total):\n",
    "        global data\n",
    "        print(f\"Se solicitó la herramienta reserva para {nombre} {apellido}\")\n",
    "        temp ={'Nombre': [nombre], 'Apellido': apellido, 'Destino': destino,\n",
    "        'Fecha_Ida': fecha_ida, 'Fecha_Vuelta': fecha_vuelta,\n",
    "        'Número_Pasajeros': numero_pasajeros, 'Clase': clase.capitalize(), 'Precio_Total':precio_total, \"id\": uuid.uuid4()}\n",
    "        temp =pd.DataFrame(data=temp)\n",
    "        data = pd.concat([data, temp], ignore_index=True)\n",
    "        return f\"Se ajendo la reserva correctamente {nombre}\""
   ]
  },
  {
   "cell_type": "code",
   "execution_count": null,
   "id": "4afceded-7178-4c05-8fa6-9f2085e6a344",
   "metadata": {},
   "outputs": [],
   "source": [
    "# Hay una estructura de diccionario particular que se requiere para describir nuestra función:\n",
    "\n",
    "price_function = {\n",
    "    \"name\": \"get_ticket_price\",\n",
    "    \"description\": \"Obtén el precio de un billete de ida y vuelta a la ciudad de destino. Llámalo siempre que necesites saber el precio del billete, por ejemplo, cuando un cliente pregunte '¿Cuánto cuesta un billete a esta ciudad?'\",\n",
    "    \"input_schema\": {\n",
    "        \"type\": \"object\",\n",
    "        \"properties\": {\n",
    "            \"destination_city\": {\n",
    "                \"type\": \"string\",\n",
    "                \"description\": \"La ciudad a la que el cliente desea viajar\",\n",
    "            },\n",
    "        },\n",
    "        \"required\": [\"destination_city\"]\n",
    "    }\n",
    "}"
   ]
  },
  {
   "cell_type": "code",
   "execution_count": null,
   "id": "f4ca8d0e",
   "metadata": {},
   "outputs": [],
   "source": [
    "reserva_function = {\n",
    "    \"name\": \"reserva\",\n",
    "    \"description\": \"Recolectar los datos para ajendar la reserva de avion. Llámalo siempre que necesites ajendar una reserva, cuando un cliente pregunte '¿puedo ajendar una reserva? o 'quiero ajendar un vuelo'\",\n",
    "    \"input_schema\": {\n",
    "        \"type\": \"object\",\n",
    "        \"properties\": {\n",
    "            \"nombre\": {\n",
    "                \"type\": \"string\",\n",
    "                \"description\": \"El nombre de la persona que realiza la reserva\",\n",
    "            },\n",
    "            \"apellido\": {\n",
    "                \"type\": \"string\",\n",
    "                \"description\": \"El apellido de la persona que realiza la reserva\",\n",
    "            },\n",
    "            \"destino\": {\n",
    "                \"type\": \"string\",\n",
    "                \"description\": \"La ciudad a la que el cliente desea viajar\",\n",
    "            },\n",
    "            \"fecha_ida\": {\n",
    "                \"type\": \"string\",\n",
    "                \"description\": \"La fecha de ida del vuelo en formato YYYY-MM-DD\",\n",
    "            },\n",
    "            \"fecha_vuelta\": {\n",
    "                \"type\": \"string\",\n",
    "                \"description\": \"La fecha de vuelta del vuelo en formato YYYY-MM-DD\",\n",
    "            },\n",
    "            \"numero_pasajeros\": {\n",
    "                \"type\": \"integer\",\n",
    "                \"description\": \"El número de pasajeros que viajarán\",\n",
    "            },\n",
    "            \"clase\": {\n",
    "                \"type\": \"string\",\n",
    "                \"description\": \"La clase en la que viajarán los pasajeros\",\n",
    "            },\n",
    "            \"precio_total\": {\n",
    "                \"type\": \"number\",\n",
    "                \"description\": \"El precio total de la reserva\",\n",
    "            },\n",
    "        },\n",
    "        \"required\": [\"monbre\", \"apellido\", \"destino\", \"fecha_ida\", \"fecha_vuelta\", \"numero_pasajeros\", \"clase\", \"precio_total\"]\n",
    "    }\n",
    "}"
   ]
  },
  {
   "cell_type": "code",
   "execution_count": null,
   "id": "bdca8679-935f-4e7f-97e6-e71a4d4f228c",
   "metadata": {},
   "outputs": [],
   "source": [
    "# Y esto está incluido en una lista de herramientas:\n",
    "\n",
    "tools = [reserva_function, price_function]"
   ]
  },
  {
   "cell_type": "markdown",
   "id": "c3d3554f-b4e3-4ce7-af6f-68faa6dd2340",
   "metadata": {},
   "source": [
    "## Cómo hacer que OpenAI use nuestra herramienta\n",
    "\n",
    "Hay algunos detalles complicados para permitir que OpenAI \"llame a nuestra herramienta\"\n",
    "\n",
    "Lo que realmente hacemos es darle al LLM la oportunidad de informarnos que quiere que ejecutemos la herramienta.\n",
    "\n",
    "Así es como se ve la nueva función de chat:"
   ]
  },
  {
   "cell_type": "code",
   "execution_count": null,
   "id": "ce9b0744-9c78-408d-b9df-9f6fd9ed78cf",
   "metadata": {},
   "outputs": [],
   "source": [
    "def chat(message, history):\n",
    "    messages = [{\"role\": \"user\" if i % 2==0 else \"assistant\",'content': msg['content']} for i,msg in enumerate(history)]\n",
    "    messages.append({\"role\":\"user\",\"content\":message})\n",
    "    response = claude.messages.create(model=MODEL,\n",
    "                                     messages=messages,\n",
    "                                    system=system_message,\n",
    "                                    tools=tools,\n",
    "                                    max_tokens=250,\n",
    "                                   )\n",
    "                                       \n",
    "    if response.content[0].type == 'tool_use':\n",
    "        message = response.content[0]\n",
    "        asistente = [{\"type\": message.type,\n",
    "                    \"id\": message.id,\n",
    "                    \"name\": message.name,\n",
    "                    \"input\": message.input}]\n",
    "        print(f\"Necesidad de herramienta \\n {response}\")\n",
    "        messages.append({\"role\":\"assistant\",\"content\":asistente})\n",
    "        response= handle_tool_call(message)\n",
    "        messages.append(response)\n",
    "        print(f\"\\n El historial  : \\n {messages}\")\n",
    "        \n",
    "\n",
    "        response = claude.messages.create(model=MODEL,\n",
    "                                     messages=messages,\n",
    "                                    system=system_message,\n",
    "                                    tools=tools,\n",
    "                                    max_tokens=250,\n",
    "                                    temperature=0)\n",
    "        return response.content[0].text\n",
    "    else:\n",
    "        print(f'no es tool_user {response}')\n",
    "    return response.content[0].text"
   ]
  },
  {
   "cell_type": "code",
   "execution_count": null,
   "id": "b0992986-ea09-4912-a076-8e5603ee631f",
   "metadata": {},
   "outputs": [],
   "source": [
    "#Tenemos que escribir esa función handle_tool_call:\n",
    "\n",
    "def handle_tool_call(message):\n",
    "    if message.name == \"get_ticket_price\":\n",
    "        city = message.input.get('destination_city')\n",
    "        price = get_ticket_price(city)\n",
    "        response = {\n",
    "            \"role\": \"user\",\n",
    "            \"content\":[{'type':\"tool_result\",\"tool_use_id\":message.id,\"content\": price}],\n",
    "        }\n",
    "        return response\n",
    "    elif message.name == \"reserva\":\n",
    "        nombre = message.input.get('nombre')\n",
    "        apellido = message.input.get('apellido')\n",
    "        destino = message.input.get('destino')\n",
    "        fecha_ida = message.input.get('fecha_ida')\n",
    "        fecha_vuelta = message.input.get('fecha_vuelta')\n",
    "        numero_pasajeros = message.input.get('numero_pasajeros')\n",
    "        clase = message.input.get('clase')\n",
    "        precio_total = message.input.get('precio_total')\n",
    "        reserva(nombre, apellido, destino, fecha_ida, fecha_vuelta, numero_pasajeros, clase, precio_total)\n",
    "        response = {\n",
    "            \"role\": \"user\",\n",
    "            \"content\": [{'type': \"tool_result\", \"tool_use_id\": message.id, \"content\": f\"Se agendó la reserva correctamente para {nombre}\"}],\n",
    "        }\n",
    "        return response\n"
   ]
  },
  {
   "cell_type": "code",
   "execution_count": null,
   "id": "f4be8a71-b19e-4c2f-80df-f59ff2661f14",
   "metadata": {},
   "outputs": [],
   "source": [
    "gr.ChatInterface(fn=chat, type=\"messages\").launch()"
   ]
  },
  {
   "cell_type": "code",
   "execution_count": null,
   "id": "ac6fbd6e",
   "metadata": {},
   "outputs": [],
   "source": [
    "# veamos los dato de la reserva\n",
    "data"
   ]
  },
  {
   "cell_type": "code",
   "execution_count": null,
   "id": "83edd7bd",
   "metadata": {},
   "outputs": [],
   "source": []
  }
 ],
 "metadata": {
  "kernelspec": {
   "display_name": "llms",
   "language": "python",
   "name": "python3"
  },
  "language_info": {
   "codemirror_mode": {
    "name": "ipython",
    "version": 3
   },
   "file_extension": ".py",
   "mimetype": "text/x-python",
   "name": "python",
   "nbconvert_exporter": "python",
   "pygments_lexer": "ipython3",
   "version": "3.11.11"
  }
 },
 "nbformat": 4,
 "nbformat_minor": 5
}
