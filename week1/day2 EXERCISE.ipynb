{
 "cells": [
  {
   "cell_type": "markdown",
   "id": "d15d8294-3328-4e07-ad16-8a03e9bbfdb9",
   "metadata": {},
   "source": [
    "# TAREA DE EJERCICIO\n",
    "\n",
    "Actualiza el proyecto del día 1 para resumir una página web y utilizar un modelo de código abierto que se ejecute localmente a través de Ollama en lugar de OpenAI\n",
    "\n",
    "Podrás utilizar esta técnica para todos los proyectos posteriores si prefiere no utilizar API de pago (closed source).\n",
    "\n",
    "**Beneficios:**\n",
    "1. Sin cargos por API: código abierto\n",
    "2. Los datos no salen de su ordenador\n",
    "\n",
    "**Desventajas:**\n",
    "1. Tiene mucha menos potencia (parámetros) que el modelo Frontier\n",
    "\n",
    "## Resumen de la instalación de Ollama\n",
    "\n",
    "¡Simplemente visita [ollama.com](https://ollama.com) e instálalo!\n",
    "\n",
    "Una vez que hayas terminado, el servidor ollama ya debería estar ejecutándose localmente.\n",
    "Si entras en:\n",
    "[http://localhost:11434/](http://localhost:11434/)\n",
    "\n",
    "Debería ver el mensaje `Ollama se está ejecutando`.\n",
    "\n",
    "De lo contrario, abre una nueva Terminal (Mac) o Powershell (Windows) e introduce `ollama serve`.\n",
    "Luego, intenta entrar em [http://localhost:11434/](http://localhost:11434/) nuevamente."
   ]
  },
  {
   "cell_type": "code",
   "execution_count": 1,
   "id": "4e2a9393-7767-488e-a8bf-27c12dca35bd",
   "metadata": {},
   "outputs": [],
   "source": [
    "# imports\n",
    "\n",
    "import requests\n",
    "from bs4 import BeautifulSoup\n",
    "from IPython.display import Markdown, display"
   ]
  },
  {
   "cell_type": "code",
   "execution_count": 2,
   "id": "29ddd15d-a3c5-4f4e-a678-873f56162724",
   "metadata": {},
   "outputs": [],
   "source": [
    "# Constantes\n",
    "\n",
    "OLLAMA_API = \"http://localhost:11434/api/chat\"\n",
    "HEADERS = {\"Content-Type\": \"application/json\"}\n",
    "MODEL = \"llama3.2\""
   ]
  },
  {
   "cell_type": "code",
   "execution_count": 3,
   "id": "dac0a679-599c-441f-9bf2-ddc73d35b940",
   "metadata": {},
   "outputs": [],
   "source": [
    "# Crea una lista de mensajes utilizando el mismo formato que usamos para OpenAI\n",
    "\n",
    "messages = [\n",
    "    {\"role\": \"user\", \"content\": \"Describe algunas de las aplicaciones comerciales de la IA generativa.\"}\n",
    "]"
   ]
  },
  {
   "cell_type": "code",
   "execution_count": 4,
   "id": "7bb9c624-14f0-4945-a719-8ddb64f66f47",
   "metadata": {},
   "outputs": [],
   "source": [
    "payload = {\n",
    "        \"model\": MODEL,\n",
    "        \"messages\": messages,\n",
    "        \"stream\": False\n",
    "    }"
   ]
  },
  {
   "cell_type": "code",
   "execution_count": 5,
   "id": "42b9f644-522d-4e05-a691-56e7658c0ea9",
   "metadata": {},
   "outputs": [
    {
     "name": "stdout",
     "output_type": "stream",
     "text": [
      "La inteligencia artificial (IA) generativa ha revolucionado diversas industrias y aplicaciones comerciales, ofreciendo una amplia gama de ventajas y beneficios. A continuación, se presentan algunas de las aplicaciones más destacadas de la IA generativa en el mundo empresarial:\n",
      "\n",
      "1. **Diseño gráfico y visual**: La IA generativa ha mejorado significativamente los procesos de diseño gráfico y visual, permitiendo la creación automática de imágenes, logos, tarjetas de presentación y otros elementos visuales.\n",
      "2. **Marketing y publicidad**: La IA generativa se utiliza para crear contenido personalizado, como anuncios en redes sociales, artículos de blogs y correos electrónicos, lo que permite una mayor eficacia en la promoción de productos y servicios.\n",
      "3. **Product design y innovación**: La IA generativa ayuda a los diseñadores a crear prototipos y modelos 3D de productos innovadores, reduciendo el tiempo y el costo en el desarrollo de nuevos productos.\n",
      "4. **Inteligencia artificial virtual (IAV)**: La IA generativa es fundamental para la creación de avatar virtuales y personajes digitales, lo que permite una mayor interacción con los usuarios y la creación de experiencias más realistas en aplicaciones de realidad aumentada y virtual.\n",
      "5. **Generación de contenido**: La IA generativa se utiliza para crear contenido automático, como noticias, artículos y reviews, lo que reduce el tiempo y el esfuerzo en la creación de contenido.\n",
      "6. **Análisis de datos y visualización**: La IA generativa ayuda a analizar grandes cantidades de datos y a visualizarlos de manera efectiva, lo que permite tomar decisiones informadas en diversas industrias.\n",
      "7. **Automatización de procesos**: La IA generativa se utiliza para automatizar tareas repetitivas y monótonas, como la respuesta a preguntas frecuentes o el procesamiento de documentos.\n",
      "8. **Creação de productos personalizados**: La IA generativa permite crear productos personalizados con mayor rapidez y precisión, lo que mejora la experiencia del cliente y aumenta las ventas.\n",
      "9. **Diseño de experiencias de usuario**: La IA generativa se utiliza para diseñar experiencias de usuario más personalizadas y efectivas, como aplicaciones móviles y sitios web.\n",
      "10. **Investigación científica**: La IA generativa se utiliza en la investigación científica para analizar grandes cantidades de datos y generar hipótesis nuevas y originales.\n",
      "\n",
      "En resumen, la IA generativa ha revolucionado diversas industrias y aplicaciones comerciales, ofreciendo una amplia gama de ventajas y beneficios. Su capacidad para automatizar procesos, crear contenido personalizado y analizar grandes cantidades de datos lo convierte en una herramienta poderosa para cualquier empresa que busque mejorar su eficiencia y competitividad.\n"
     ]
    }
   ],
   "source": [
    "response = requests.post(OLLAMA_API, json=payload, headers=HEADERS)\n",
    "print(response.json()['message']['content'])"
   ]
  },
  {
   "cell_type": "markdown",
   "id": "6a021f13-d6a1-4b96-8e18-4eae49d876fe",
   "metadata": {},
   "source": [
    "# Presentación del paquete ollama\n",
    "\n",
    "Ahora haremos lo mismo, pero utilizando el elegante paquete de Python ollama en lugar de una llamada HTTP directa.\n",
    "\n",
    "En esencia, se realiza la misma llamada que se indicó anteriormente al servidor ollama que se ejecuta en localhost:11434"
   ]
  },
  {
   "cell_type": "code",
   "execution_count": 6,
   "id": "7745b9c4-57dc-4867-9180-61fa5db55eb8",
   "metadata": {},
   "outputs": [
    {
     "name": "stdout",
     "output_type": "stream",
     "text": [
      "La inteligencia artificial (IA) generativa es un campo en constante evolución que permite a los sistemas informáticos crear contenido nuevo y valioso sin intervención humana directa. A continuación, se presentan algunas de las aplicaciones comerciales más destacadas de la IA generativa:\n",
      "\n",
      "1. **Generación de contenido**: La IA generativa puede generar texto, imágenes y videos en función de un conjunto de instrucciones o patrones. Esto permite a las empresas crear contenido de alta calidad sin tener que invertir recursos en personas con habilidades creativas.\n",
      "\n",
      "2. **Diseño de productos virtuales**: Las herramientas de IA generativa permiten diseñar productos virtuales, como ropa, accesorios y elementos decorativos, lo que facilita la creación de visualizaciones para marketing y diseño.\n",
      "\n",
      "3. **Edición de imágenes**: La IA generativa puede mejorar las ediciones de imágenes automatizando el proceso de corrección de tonalidad, contraste, etc.\n",
      "\n",
      "4. **Creación de música**: Los sistemas de IA generativos pueden generar música original en función de patrones musicales y estilos específicos.\n",
      "\n",
      "5. **Análisis de datos**: La IA generativa se utiliza para analizar grandes cantidades de datos y extraer patrones y tendencias que pueden ser utilizados para tomar decisiones informadas.\n",
      "\n",
      "6. **Generación de código fuente**: Los sistemas de IA generativos pueden generar código fuente en lenguajes como Python, JavaScript o C++.\n",
      "\n",
      "7. **Generación de contenido de marketing**: La IA generativa puede crear contenidos de marketing personalizados y relevantes para los clientes, como publicidad dirigida y correos electrónicos promocionales.\n",
      "\n",
      "8. **Diseño de interfaces de usuario**: Las herramientas de IA generativa permiten diseñar interiores de interfaces de usuario que son más atractivas y fáciles de usar.\n",
      "\n",
      "9. **Generación de narrativas**: Los sistemas de IA generativos pueden generar historias, guiones o incluso personajes para proyectos de cine, televisión o literatura.\n",
      "\n",
      "10. **Análisis de sentimiento**: La IA generativa se utiliza para analizar los sentimientos y emociones de las personas a través de textos, imágenes y audio.\n",
      "\n",
      "Estas son solo algunas de las aplicaciones comerciales más destacadas de la IA generativa. El campo está en constante evolución y se espera que aumenten el número de posibilidades creativas y productivas para las empresas.\n"
     ]
    }
   ],
   "source": [
    "import ollama\n",
    "\n",
    "response = ollama.chat(model=MODEL, messages=messages)\n",
    "print(response['message']['content'])"
   ]
  },
  {
   "cell_type": "code",
   "execution_count": null,
   "id": "9a611b05-b5b0-4c83-b82d-b3a39ffb917d",
   "metadata": {},
   "outputs": [],
   "source": []
  },
  {
   "cell_type": "markdown",
   "id": "1622d9bb-5c68-4d4e-9ca4-b492c751f898",
   "metadata": {},
   "source": [
    "# AHORA el ejercicio para ti\n",
    "\n",
    "Toma el código del día 1 e incorpóralo aquí para crear un resumidor de sitios web que use Llama 3.2 ejecutándose localmente en lugar de OpenAI"
   ]
  },
  {
   "cell_type": "code",
   "execution_count": 26,
   "id": "4a3d6881-35af-469e-a8ff-a8b62b721d95",
   "metadata": {},
   "outputs": [],
   "source": [
    "import os\n",
    "import requests\n",
    "from dotenv import load_dotenv\n",
    "from bs4 import BeautifulSoup as bs\n",
    "from IPython.display import Markdown, display\n",
    "import ollama\n",
    "\n",
    "\n",
    "\n",
    "class Website():\n",
    "    \"\"\"\n",
    "    Una clase de utilidad para representar un sitio web que hemos scrappeado\n",
    "    \"\"\"\n",
    "\n",
    "    def __init__(self, url):\n",
    "        \"\"\"\n",
    "        Crea este objeto de sitio web a partir de la URL indicada utilizando la biblioteca BeautifulSoup\n",
    "        \"\"\"\n",
    "        self.url = url\n",
    "        response = requests.get(url)\n",
    "        soup = bs(response.content, 'html.parser')\n",
    "        self.title = soup.title.string if soup.title else \"No tiene título\"\n",
    "        for irrelevant in soup.body([\"script\", \"style\", \"img\", \"input\"]):\n",
    "            irrelevant.decompose()\n",
    "        self.text = soup.body.get_text(separator=\"\\n\", strip=True)\n",
    "\n",
    "\n",
    "\n",
    "def user_prompt_for(website):\n",
    "    user_prompt = f\"Estás viendo un sitio web titulado {website.title}\"\n",
    "    user_prompt += \"\\nEl contenido de este sitio web es el siguiente; \\\n",
    "    proporciona un breve resumen de este sitio web en formato Markdown. \\\n",
    "    Si incluye noticias, productos o anuncios, resúmelos también.\\n\\n\"\n",
    "    user_prompt += website.text\n",
    "    return user_prompt\n",
    "    \n",
    "def messages_for(website):\n",
    "    return [\n",
    "        {\"role\": \"user\", \"content\": user_prompt_for(website)}\n",
    "    ]\n",
    "def summarize(url):\n",
    "    website = Website(url)\n",
    "    response = ollama.chat(\n",
    "        model = \"llama3.2\",\n",
    "        messages = messages_for(website)\n",
    "    )\n",
    "    return response['message']['content']\n",
    "\n",
    "def display_summary(url):\n",
    "    summary = summarize(url)\n",
    "    display(Markdown(summary))\n",
    "    "
   ]
  },
  {
   "cell_type": "code",
   "execution_count": 27,
   "id": "eb2fe4f8-bbe8-44d1-aae7-3d9cea74833a",
   "metadata": {},
   "outputs": [
    {
     "data": {
      "text/markdown": [
       "Este es el contenido principal de la página web de Frogames:\n",
       "\n",
       "**Introducción**\n",
       "Frogames es una plataforma educativa que ofrece cursos en línea para adultos y jóvenes en español, enfocada en temas como programación, inteligencia artificial, marketing, análisis de datos y más. La plataforma fue fundada por Juan Gabriel Gomila, un licenciado en matemáticas y maestro en educación, quien tenía experiencia en grabar cursos online y enseñar a estudiantes en todo el mundo.\n",
       "\n",
       "**Cursos y Rutas de Aprendizaje**\n",
       "Frogames ofrece una amplia variedad de cursos y rutas de aprendizaje para que los usuarios puedan elegir aquellos que mejor se adapten a sus intereses y objetivos. Los cursos están diseñados por instructores experimentados y cubren temas como:\n",
       "\n",
       "* Lenguajes de programación (C#, Java, Kotlin, etc.)\n",
       "* Inteligencia artificial\n",
       "* Desarrollo de videojuegos\n",
       "* Trading algorítmico\n",
       "* Business Intelligence\n",
       "* Análisis de datos\n",
       "\n",
       "**Premios y Distinciones**\n",
       "Frogames ha ganado varios premios y distinciones por su plataforma educativa destacada a nivel mundial.\n",
       "\n",
       "**Afiliados**\n",
       "Los usuarios pueden optar a convertirse en afiliados de Froggames y ser remunerados por cada venta que consiguen.\n",
       "\n",
       "**Políticas y Avisos Legales**\n",
       "La página web de Frogames incluye políticas importantes como la política de privacidad, términos de uso, política de cookies y más."
      ],
      "text/plain": [
       "<IPython.core.display.Markdown object>"
      ]
     },
     "metadata": {},
     "output_type": "display_data"
    }
   ],
   "source": [
    "display_summary('https://cursos.frogamesformacion.com')"
   ]
  },
  {
   "cell_type": "code",
   "execution_count": 28,
   "id": "69958cf5-b8bb-4d19-b471-04f7cf2b6c57",
   "metadata": {},
   "outputs": [
    {
     "data": {
      "text/markdown": [
       "**Resumen del sitio web en formato Markdown**\n",
       "\n",
       "# Matemáticas y Tecnología\n",
       "\n",
       "Un espacio de aprendizaje, colaboración y reflexión sobre la aplicación de herramientas de inteligencia artificial, ciencia de datos y tecnologías emergentes para abordar desafíos reales.\n",
       "\n",
       "## Enfoque Basado en Proyectos\n",
       "\n",
       "* Aprender a construir y aplicar herramientas de inteligencia artificial y ciencia de datos\n",
       "* Desarrollar habilidades técnicas y reflexionar sobre el impacto de la tecnología en la sociedad\n",
       "* Fomentar un diálogo entre la innovación tecnológica y las necesidades de la sociedad\n",
       "\n",
       "## Quién puede participar\n",
       "\n",
       "* Estudiantes, profesionales y apasionados de matemáticas y tecnología que desean aplicar sus habilidades en contextos prácticos y colaborativos\n",
       "* Estudiantes del ámbito de las ciencias sociales interesados en explorar y debatir las implicaciones éticas, sociales y culturales de las tecnologías\n",
       "\n",
       "## Cuándo y cómo\n",
       "\n",
       "* Actividades se llevarán a cabo a lo largo del semestre con sesiones semanales de trabajo y colaboración\n",
       "* Los equipos de trabajo serán organizados según sus intereses académicos y/o profesionales\n",
       "* Se ofrecerá la oportunidad de reflexionar sobre el impacto de la tecnología en la sociedad\n",
       "\n",
       "## Noticias, productos y anuncios\n",
       "\n",
       "* No se menciona ningún producto o servicio específico.\n",
       "* Solo se ofrece la oportunidad para unirte a discusiones y explorar los aspectos éticos y sociales de la tecnología.\n",
       "\n",
       "**Resumen de las actividades**\n",
       "\n",
       "* Sesiones semanales de trabajo y colaboración\n",
       "* Desafíos prácticos y proyectos para abordar desafíos reales\n",
       "* Presentaciones semestrales para compartir aprendizajes y resultados\n",
       "* Oportunidad para reflexionar sobre el impacto de la tecnología en la sociedad"
      ],
      "text/plain": [
       "<IPython.core.display.Markdown object>"
      ]
     },
     "metadata": {},
     "output_type": "display_data"
    }
   ],
   "source": [
    "display_summary('https://proytech.onrender.com')"
   ]
  },
  {
   "cell_type": "code",
   "execution_count": null,
   "id": "7d4ee4e1-c893-43d2-9055-469dc590369c",
   "metadata": {},
   "outputs": [],
   "source": []
  }
 ],
 "metadata": {
  "kernelspec": {
   "display_name": "Python 3 (ipykernel)",
   "language": "python",
   "name": "python3"
  },
  "language_info": {
   "codemirror_mode": {
    "name": "ipython",
    "version": 3
   },
   "file_extension": ".py",
   "mimetype": "text/x-python",
   "name": "python",
   "nbconvert_exporter": "python",
   "pygments_lexer": "ipython3",
   "version": "3.11.11"
  }
 },
 "nbformat": 4,
 "nbformat_minor": 5
}
