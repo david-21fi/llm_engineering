{
 "cells": [
  {
   "cell_type": "markdown",
   "id": "fe12c203-e6a6-452c-a655-afb8a03a4ff5",
   "metadata": {},
   "source": [
    "# Ejercicio final de la semana 1\n",
    "\n",
    "Para demostrar que estás familiarizado con la API de OpenAI y también con Ollama, crea una herramienta que responda a una pregunta técnica\n",
    "y la explique. ¡Esta es una herramienta que podrás usar durante el curso!"
   ]
  },
  {
   "cell_type": "code",
   "execution_count": 55,
   "id": "c1070317-3ed9-4659-abe3-828943230e03",
   "metadata": {},
   "outputs": [],
   "source": [
    "# imports\n",
    "import ollama\n",
    "import os\n",
    "from IPython.display import Markdown,display\n",
    "import time"
   ]
  },
  {
   "cell_type": "code",
   "execution_count": 3,
   "id": "4a456906-915a-4bfd-bb9d-57e505c5093f",
   "metadata": {},
   "outputs": [],
   "source": [
    "# constantes\n",
    "\n",
    "MODEL_GPT = 'gpt-4o-mini'\n",
    "\n",
    "\n",
    "MODEL_LLAMA = 'llama3.2'"
   ]
  },
  {
   "cell_type": "code",
   "execution_count": 62,
   "id": "a8d7923c-5f28-4c30-8556-342d7c8497c1",
   "metadata": {},
   "outputs": [],
   "source": [
    "# Configura el entorno\n",
    "def tutor(prompt):\n",
    "    mensaje = [{\n",
    "        'role': 'user',\n",
    "        'content': f\"\"\"me ayudaras como tutor en mi proceso de formación de programación en python para ML. {prompt}\n",
    "        Explicamelo de una forma clara y corta.\"\"\"\n",
    "    }]\n",
    "    \n",
    "    response_stream = ollama.chat(\n",
    "        model=MODEL_LLAMA,\n",
    "        messages=mensaje,\n",
    "        stream=True\n",
    "    )\n",
    "    \n",
    "    texto_completo = \"\"\n",
    "    for chunk in (chunk['message']['content'] for chunk in response_stream if 'message' in chunk):\n",
    "        texto_completo += chunk\n",
    "        display(Markdown(texto_completo), clear=True)\n",
    "        time.sleep(0.02)\n",
    "    \n"
   ]
  },
  {
   "cell_type": "code",
   "execution_count": 25,
   "id": "3f0d0137-52b0-47a8-81a8-11a90a010798",
   "metadata": {},
   "outputs": [],
   "source": [
    "# Aquí está la pregunta; escribe sobre esto para preguntar algo nuevo\n",
    "\n",
    "question = \"\"\"\n",
    "Explica qué hace este código y por qué:\n",
    "yield from {book.get(\"author\") for book in books if book.get(\"author\")}\n",
    "\"\"\"\n"
   ]
  },
  {
   "cell_type": "code",
   "execution_count": null,
   "id": "60ce7000-a4a5-4cce-a261-e75ef45063b4",
   "metadata": {},
   "outputs": [],
   "source": [
    "# Haz que gpt-4o-mini responda, con streaming"
   ]
  },
  {
   "cell_type": "code",
   "execution_count": 63,
   "id": "8f7c8ea8-4082-4ad0-8751-3301adcf6538",
   "metadata": {},
   "outputs": [
    {
     "data": {
      "text/markdown": [
       "¡Claro que sí! Me alegra ayudarte en tu proceso de formación en programación con Python para Machine Learning.\n",
       "\n",
       "El código que me has proporcionado es una expresión genérica que utiliza el método `yield from`. Aquí te explico qué hace este código y por qué:\n",
       "\n",
       "```python\n",
       "# Definimos un generador (una función que devuelve valores generados en lugar de todos a la vez)\n",
       "def obtener_autores(books):\n",
       "    yield from {book.get(\"author\") for book in books if book.get(\"author\")}\n",
       "```\n",
       "\n",
       "**¿Qué hace el código?**\n",
       "\n",
       "El código se centra en obtener los autores de una lista de libros (`books`). La expresión `{...}` es un diccionario generado (un diccionario que puede generar valores en lugar de todos a la vez).\n",
       "\n",
       "1. Primero, se crea un diccionario generador (`{...}`) que contiene las autoras de los libros.\n",
       "2. Luego, se utiliza el método `for` para iterar sobre cada libro en la lista `books`.\n",
       "3. Para cada libro, se ejecuta la expresión `book.get(\"author\")`, lo que devuelve el autor del libro si existe (o `None` si no existe).\n",
       "4. El resultado de esta expresión se agrega al diccionario generador (`{...}`).\n",
       "5. Finalmente, se utiliza el método `yield from` para generar los valores del diccionario.\n",
       "\n",
       "**¿Por qué utiliza `yield from`?**\n",
       "\n",
       "El método `yield from` es un truco en Python que permite que un generator (una función que devuelve valores generados) llame a otro generator y devuelva sus resultados sin tener que manejar explícitamente cada valor. En este caso, el código utiliza `yield from` para generar los autores de los libros sin tener que manejar explícitamente cada autor.\n",
       "\n",
       "En resumen, el código es una forma concisa y elegante de obtener los autores de una lista de libros utilizando un generador y el método `yield from`.\n",
       "\n",
       "¿Quieres seguir avanzando con este ejemplo o tienes alguna pregunta adicional?"
      ],
      "text/plain": [
       "<IPython.core.display.Markdown object>"
      ]
     },
     "metadata": {},
     "output_type": "display_data"
    }
   ],
   "source": [
    "# Haz que Llama 3.2 responda\n",
    "\n",
    "tutor(question)"
   ]
  },
  {
   "cell_type": "code",
   "execution_count": null,
   "id": "233783d7-a125-46d4-b206-8d9d3f311a22",
   "metadata": {},
   "outputs": [],
   "source": []
  }
 ],
 "metadata": {
  "kernelspec": {
   "display_name": "Python 3 (ipykernel)",
   "language": "python",
   "name": "python3"
  },
  "language_info": {
   "codemirror_mode": {
    "name": "ipython",
    "version": 3
   },
   "file_extension": ".py",
   "mimetype": "text/x-python",
   "name": "python",
   "nbconvert_exporter": "python",
   "pygments_lexer": "ipython3",
   "version": "3.11.11"
  }
 },
 "nbformat": 4,
 "nbformat_minor": 5
}
