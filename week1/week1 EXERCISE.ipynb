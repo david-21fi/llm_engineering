{
 "cells": [
  {
   "cell_type": "markdown",
   "id": "fe12c203-e6a6-452c-a655-afb8a03a4ff5",
   "metadata": {},
   "source": [
    "# Ejercicio final de la semana 1\n",
    "\n",
    "Para demostrar que estás familiarizado con la API de OpenAI y también con Ollama, crea una herramienta que responda a una pregunta técnica\n",
    "y la explique. ¡Esta es una herramienta que podrás usar durante el curso!\n"
   ]
  },
  {
   "cell_type": "code",
   "execution_count": 1,
   "id": "c1070317-3ed9-4659-abe3-828943230e03",
   "metadata": {},
   "outputs": [],
   "source": [
    "# imports\n",
    "import ollama\n",
    "import os\n",
    "from IPython.display import Markdown,display\n",
    "import time\n",
    "\n",
    "# librerias para claude\n",
    "import anthropic\n",
    "from dotenv import load_dotenv\n",
    "\n",
    "# libreria de Gradio\n",
    "import gradio as gr\n"
   ]
  },
  {
   "cell_type": "code",
   "execution_count": 2,
   "id": "4a456906-915a-4bfd-bb9d-57e505c5093f",
   "metadata": {},
   "outputs": [],
   "source": [
    "# constantes\n",
    "\n",
    "MODEL_Claude = 'claude-3-haiku-20240307'\n",
    "\n",
    "MODEL_LLAMA = 'llama3.2'"
   ]
  },
  {
   "cell_type": "code",
   "execution_count": 3,
   "id": "22638086-2c51-4c0d-946a-60f0ec9eb480",
   "metadata": {},
   "outputs": [
    {
     "name": "stdout",
     "output_type": "stream",
     "text": [
      "se cargo correctamente: sk-a\n"
     ]
    }
   ],
   "source": [
    "# obteniendo la variable de api de antropic\n",
    "load_dotenv()\n",
    "\n",
    "anthropic_api_key = os.getenv('ANTHROPIC_API_KEY')\n",
    "\n",
    "if anthropic_api_key:\n",
    "    print('se cargo correctamente: {}'.format(anthropic_api_key[:4]))\n",
    "else:\n",
    "    print(\"No se encontro.\")"
   ]
  },
  {
   "cell_type": "code",
   "execution_count": 4,
   "id": "7ddf1ebc-0c2f-42b1-a202-da659766a460",
   "metadata": {},
   "outputs": [],
   "source": [
    "# genero el objeto de claude\n",
    "claude = anthropic.Anthropic()"
   ]
  },
  {
   "cell_type": "code",
   "execution_count": 24,
   "id": "60ce7000-a4a5-4cce-a261-e75ef45063b4",
   "metadata": {},
   "outputs": [],
   "source": [
    "# Configuracion de claude responda, con streaming\n",
    "\n",
    "pront_system = \"Eres un asistente que ayudas a entender codigo de python\"\n",
    "pront_user = \"\"\"\n",
    "Explica qué hace este código y por qué:\n",
    "yield from {book.get(\"author\") for book in books if book.get(\"author\")}\n",
    "\"\"\"\n",
    "\n",
    "\n",
    "\n",
    "\n",
    "def stream_claude(pront):\n",
    "    \n",
    "    resultado = claude.messages.stream(model=MODEL_Claude,\n",
    "                                       messages= [{'role':'user','content':pront}],\n",
    "                                      system=pront_system,\n",
    "                                      max_tokens=600,\n",
    "                                      temperature= 0.7)\n",
    "    response = \"\"\n",
    "    with resultado as stream:\n",
    "        for text in  stream.text_stream:\n",
    "            response += text or ''\n",
    "            yield response         \n",
    "    \n",
    "view = gr.Interface(fn=stream_claude,\n",
    "                    inputs = [gr.Textbox(label='Tu mensaje:')],\n",
    "                    outputs = [gr.Markdown(label=\"Respuesta:\")],\n",
    "                    flagging_mode = 'never'\n",
    "                   )"
   ]
  },
  {
   "cell_type": "code",
   "execution_count": 26,
   "id": "f8ab3649-b9fc-4fe9-8b2c-4eedbdeda6cb",
   "metadata": {},
   "outputs": [
    {
     "name": "stdout",
     "output_type": "stream",
     "text": [
      "* Running on local URL:  http://127.0.0.1:7863\n",
      "\n",
      "To create a public link, set `share=True` in `launch()`.\n"
     ]
    },
    {
     "data": {
      "text/html": [
       "<div><iframe src=\"http://127.0.0.1:7863/\" width=\"100%\" height=\"500\" allow=\"autoplay; camera; microphone; clipboard-read; clipboard-write;\" frameborder=\"0\" allowfullscreen></iframe></div>"
      ],
      "text/plain": [
       "<IPython.core.display.HTML object>"
      ]
     },
     "metadata": {},
     "output_type": "display_data"
    },
    {
     "data": {
      "text/plain": []
     },
     "execution_count": 26,
     "metadata": {},
     "output_type": "execute_result"
    }
   ],
   "source": [
    "# Haz que claude responda\n",
    "view.launch()"
   ]
  },
  {
   "cell_type": "code",
   "execution_count": 30,
   "id": "3f0d0137-52b0-47a8-81a8-11a90a010798",
   "metadata": {},
   "outputs": [],
   "source": [
    "# Aquí está la pregunta; escribe sobre esto para preguntar algo nuevo\n",
    "\n",
    "question = \"\"\"\n",
    "Explica qué hace este código y por qué:\n",
    "yield from {book.get(\"author\") for book in books if book.get(\"author\")}\n",
    "\"\"\"\n"
   ]
  },
  {
   "cell_type": "code",
   "execution_count": 28,
   "id": "a8d7923c-5f28-4c30-8556-342d7c8497c1",
   "metadata": {},
   "outputs": [],
   "source": [
    "# Configura el entorno para ollama\n",
    "def tutor(prompt):\n",
    "    mensaje = [{\n",
    "        'role': 'user',\n",
    "        'content': f\"\"\"me ayudaras como tutor en mi proceso de formación de programación en python para ML. {prompt}\n",
    "        Explicamelo de una forma clara y corta.\"\"\"\n",
    "    }]\n",
    "    \n",
    "    response_stream = ollama.chat(\n",
    "        model=MODEL_LLAMA,\n",
    "        messages=mensaje,\n",
    "        stream=True\n",
    "    )\n",
    "    \n",
    "    texto_completo = \"\"\n",
    "    for chunk in (chunk['message']['content'] for chunk in response_stream if 'message' in chunk):\n",
    "        texto_completo += chunk\n",
    "        display(Markdown(texto_completo), clear=True)\n",
    "        time.sleep(0.02)\n",
    "    \n"
   ]
  },
  {
   "cell_type": "code",
   "execution_count": 31,
   "id": "8f7c8ea8-4082-4ad0-8751-3301adcf6538",
   "metadata": {},
   "outputs": [
    {
     "data": {
      "text/markdown": [
       "¡Claro que sí! Me alegra poder ayudarte en tu proceso de formación.\n",
       "\n",
       "El código que tienes es un ejemplo común en Python, relacionado con la iteración y generadores. Vamos a desglosarlo paso a paso:\n",
       "\n",
       "**¿Qué hace este código?**\n",
       "\n",
       "Este código utiliza una técnica llamada \"generador\" (también conocida como \"yield from\") para generar un conjunto de valores a partir de otra colección.\n",
       "\n",
       "**Explicación del código:**\n",
       "\n",
       "* `yield from`: Es una directiva que permite al programador crear un generator (un objeto que puede ser iterado) desde otro objecto.\n",
       "* `{book.get(\"author\") for book in books if book.get(\"author\")}`: Esto es una expresión genérica que utiliza el operador `for` para iterar sobre los libros (`books`) en la colección, y para cada libro, obtiene el autor utilizando la función `get(\"author\")`.\n",
       "\n",
       "**Cómo funciona el código:**\n",
       "\n",
       "1. El generator se crea cuando se ejecuta la directiva `yield from`.\n",
       "2. La expresión genérica `{book.get(\"author\") for book in books if book.get(\"author\")}` es evaluada y se convierte en un generator.\n",
       "3. Cuando se le pide a este generator que \"retorne\" los valores, utiliza el operador `for` para iterar sobre cada libro (`books`) y obtener su autor.\n",
       "4. El resultado final es un conjunto de valores (los autores) generados a partir del conjunto de libros.\n",
       "\n",
       "**Por qué funciona**\n",
       "\n",
       "El uso de la directiva `yield from` permite al generator acceder a los valores del otro objecto (`books`) sin tener que recogerlos en una lista o variable intermedia. Esto hace que el código sea más eficiente y memoria eficiente, especialmente cuando se trabaja con grandes conjuntos de datos.\n",
       "\n",
       "En resumen, este código utiliza un generador para obtener los autores de cada libro en la colección `books`, sin tener que recogerlos en una lista o variable intermedia."
      ],
      "text/plain": [
       "<IPython.core.display.Markdown object>"
      ]
     },
     "metadata": {},
     "output_type": "display_data"
    }
   ],
   "source": [
    "# Haz que Llama 3.2 responda\n",
    "\n",
    "tutor(question)"
   ]
  },
  {
   "cell_type": "code",
   "execution_count": null,
   "id": "233783d7-a125-46d4-b206-8d9d3f311a22",
   "metadata": {},
   "outputs": [],
   "source": []
  }
 ],
 "metadata": {
  "kernelspec": {
   "display_name": "Python 3 (ipykernel)",
   "language": "python",
   "name": "python3"
  },
  "language_info": {
   "codemirror_mode": {
    "name": "ipython",
    "version": 3
   },
   "file_extension": ".py",
   "mimetype": "text/x-python",
   "name": "python",
   "nbconvert_exporter": "python",
   "pygments_lexer": "ipython3",
   "version": "3.11.11"
  }
 },
 "nbformat": 4,
 "nbformat_minor": 5
}
